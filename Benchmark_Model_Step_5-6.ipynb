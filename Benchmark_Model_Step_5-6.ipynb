{
 "cells": [
  {
   "cell_type": "markdown",
   "metadata": {},
   "source": [
    "### Workflow\n",
    "#### 5.A) Modelling\n",
    "5.1 Loading the prepared data (see notebook \"Data_Preprocesing_Step_2-4\")\n",
    "\n",
    "5.2 Predict next 49 days through Simple Exponential Smoothing without considering features (only target cloumn)\n",
    "\n",
    "#### 6.A) Evaluation\n",
    "6.1 Combing Prediction- and Test-Data to an evaluation df \n",
    "\n",
    "6.2 Visual Evaluation\n",
    "\n",
    "6.3 Examination of results resampled to 7 weeks (instead of 49days)\n",
    "\n",
    "6.4 Scores - calculating the prediction quality scores defined in the Project Proposal"
   ]
  },
  {
   "cell_type": "markdown",
   "metadata": {},
   "source": [
    "# 5.A) Modelling"
   ]
  },
  {
   "cell_type": "markdown",
   "metadata": {},
   "source": [
    "### 5.1 Lodaing the prepared data"
   ]
  },
  {
   "cell_type": "code",
   "execution_count": 1,
   "metadata": {},
   "outputs": [],
   "source": [
    "import numpy as np\n",
    "import pandas as pd\n",
    "import os\n",
    "import matplotlib.pyplot as plt\n",
    "%matplotlib inline"
   ]
  },
  {
   "cell_type": "code",
   "execution_count": 2,
   "metadata": {},
   "outputs": [
    {
     "data": {
      "text/html": [
       "<div>\n",
       "<style scoped>\n",
       "    .dataframe tbody tr th:only-of-type {\n",
       "        vertical-align: middle;\n",
       "    }\n",
       "\n",
       "    .dataframe tbody tr th {\n",
       "        vertical-align: top;\n",
       "    }\n",
       "\n",
       "    .dataframe thead th {\n",
       "        text-align: right;\n",
       "    }\n",
       "</style>\n",
       "<table border=\"1\" class=\"dataframe\">\n",
       "  <thead>\n",
       "    <tr style=\"text-align: right;\">\n",
       "      <th></th>\n",
       "      <th>Unnamed: 0</th>\n",
       "      <th>Store</th>\n",
       "      <th>DayOfWeek</th>\n",
       "      <th>Date</th>\n",
       "      <th>Sales</th>\n",
       "      <th>Open</th>\n",
       "      <th>Promo</th>\n",
       "      <th>StateHoliday</th>\n",
       "      <th>SchoolHoliday</th>\n",
       "      <th>ID</th>\n",
       "      <th>StoreType</th>\n",
       "      <th>Assortment</th>\n",
       "      <th>CompetitionDistance</th>\n",
       "      <th>Promo_2_active</th>\n",
       "      <th>Open_sunday</th>\n",
       "    </tr>\n",
       "  </thead>\n",
       "  <tbody>\n",
       "    <tr>\n",
       "      <th>0</th>\n",
       "      <td>0</td>\n",
       "      <td>1</td>\n",
       "      <td>5</td>\n",
       "      <td>2015-07-31</td>\n",
       "      <td>5263</td>\n",
       "      <td>1</td>\n",
       "      <td>1</td>\n",
       "      <td>1</td>\n",
       "      <td>1</td>\n",
       "      <td>0</td>\n",
       "      <td>2</td>\n",
       "      <td>0</td>\n",
       "      <td>1270</td>\n",
       "      <td>0</td>\n",
       "      <td>0</td>\n",
       "    </tr>\n",
       "    <tr>\n",
       "      <th>1</th>\n",
       "      <td>1</td>\n",
       "      <td>2</td>\n",
       "      <td>5</td>\n",
       "      <td>2015-07-31</td>\n",
       "      <td>6064</td>\n",
       "      <td>1</td>\n",
       "      <td>1</td>\n",
       "      <td>1</td>\n",
       "      <td>1</td>\n",
       "      <td>1</td>\n",
       "      <td>0</td>\n",
       "      <td>0</td>\n",
       "      <td>570</td>\n",
       "      <td>1</td>\n",
       "      <td>0</td>\n",
       "    </tr>\n",
       "    <tr>\n",
       "      <th>2</th>\n",
       "      <td>2</td>\n",
       "      <td>3</td>\n",
       "      <td>5</td>\n",
       "      <td>2015-07-31</td>\n",
       "      <td>8314</td>\n",
       "      <td>1</td>\n",
       "      <td>1</td>\n",
       "      <td>1</td>\n",
       "      <td>1</td>\n",
       "      <td>2</td>\n",
       "      <td>0</td>\n",
       "      <td>0</td>\n",
       "      <td>14130</td>\n",
       "      <td>1</td>\n",
       "      <td>0</td>\n",
       "    </tr>\n",
       "    <tr>\n",
       "      <th>3</th>\n",
       "      <td>3</td>\n",
       "      <td>4</td>\n",
       "      <td>5</td>\n",
       "      <td>2015-07-31</td>\n",
       "      <td>13995</td>\n",
       "      <td>1</td>\n",
       "      <td>1</td>\n",
       "      <td>1</td>\n",
       "      <td>1</td>\n",
       "      <td>3</td>\n",
       "      <td>2</td>\n",
       "      <td>2</td>\n",
       "      <td>620</td>\n",
       "      <td>0</td>\n",
       "      <td>0</td>\n",
       "    </tr>\n",
       "    <tr>\n",
       "      <th>4</th>\n",
       "      <td>4</td>\n",
       "      <td>5</td>\n",
       "      <td>5</td>\n",
       "      <td>2015-07-31</td>\n",
       "      <td>4822</td>\n",
       "      <td>1</td>\n",
       "      <td>1</td>\n",
       "      <td>1</td>\n",
       "      <td>1</td>\n",
       "      <td>4</td>\n",
       "      <td>0</td>\n",
       "      <td>0</td>\n",
       "      <td>29910</td>\n",
       "      <td>0</td>\n",
       "      <td>0</td>\n",
       "    </tr>\n",
       "  </tbody>\n",
       "</table>\n",
       "</div>"
      ],
      "text/plain": [
       "   Unnamed: 0  Store  DayOfWeek        Date  Sales  Open  Promo  StateHoliday  \\\n",
       "0           0      1          5  2015-07-31   5263     1      1             1   \n",
       "1           1      2          5  2015-07-31   6064     1      1             1   \n",
       "2           2      3          5  2015-07-31   8314     1      1             1   \n",
       "3           3      4          5  2015-07-31  13995     1      1             1   \n",
       "4           4      5          5  2015-07-31   4822     1      1             1   \n",
       "\n",
       "   SchoolHoliday  ID  StoreType  Assortment  CompetitionDistance  \\\n",
       "0              1   0          2           0                 1270   \n",
       "1              1   1          0           0                  570   \n",
       "2              1   2          0           0                14130   \n",
       "3              1   3          2           2                  620   \n",
       "4              1   4          0           0                29910   \n",
       "\n",
       "   Promo_2_active  Open_sunday  \n",
       "0               0            0  \n",
       "1               1            0  \n",
       "2               1            0  \n",
       "3               0            0  \n",
       "4               0            0  "
      ]
     },
     "execution_count": 2,
     "metadata": {},
     "output_type": "execute_result"
    }
   ],
   "source": [
    "# load data \n",
    "df = pd.read_csv('prepared_data_all.csv')\n",
    "df.head()"
   ]
  },
  {
   "cell_type": "code",
   "execution_count": 3,
   "metadata": {},
   "outputs": [],
   "source": [
    "df = df.drop(columns=['Unnamed: 0'])"
   ]
  },
  {
   "cell_type": "code",
   "execution_count": 4,
   "metadata": {},
   "outputs": [],
   "source": [
    "# change order of df so latest date comes first\n",
    "df = df.iloc[::-1]"
   ]
  },
  {
   "cell_type": "code",
   "execution_count": 5,
   "metadata": {},
   "outputs": [
    {
     "data": {
      "text/html": [
       "<div>\n",
       "<style scoped>\n",
       "    .dataframe tbody tr th:only-of-type {\n",
       "        vertical-align: middle;\n",
       "    }\n",
       "\n",
       "    .dataframe tbody tr th {\n",
       "        vertical-align: top;\n",
       "    }\n",
       "\n",
       "    .dataframe thead th {\n",
       "        text-align: right;\n",
       "    }\n",
       "</style>\n",
       "<table border=\"1\" class=\"dataframe\">\n",
       "  <thead>\n",
       "    <tr style=\"text-align: right;\">\n",
       "      <th></th>\n",
       "      <th>Date</th>\n",
       "      <th>Store</th>\n",
       "      <th>Sales</th>\n",
       "    </tr>\n",
       "  </thead>\n",
       "  <tbody>\n",
       "    <tr>\n",
       "      <th>1017208</th>\n",
       "      <td>2013-01-01</td>\n",
       "      <td>1115</td>\n",
       "      <td>0</td>\n",
       "    </tr>\n",
       "    <tr>\n",
       "      <th>1017207</th>\n",
       "      <td>2013-01-01</td>\n",
       "      <td>1114</td>\n",
       "      <td>0</td>\n",
       "    </tr>\n",
       "    <tr>\n",
       "      <th>1017206</th>\n",
       "      <td>2013-01-01</td>\n",
       "      <td>1113</td>\n",
       "      <td>0</td>\n",
       "    </tr>\n",
       "    <tr>\n",
       "      <th>1017205</th>\n",
       "      <td>2013-01-01</td>\n",
       "      <td>1112</td>\n",
       "      <td>0</td>\n",
       "    </tr>\n",
       "    <tr>\n",
       "      <th>1017204</th>\n",
       "      <td>2013-01-01</td>\n",
       "      <td>1111</td>\n",
       "      <td>0</td>\n",
       "    </tr>\n",
       "  </tbody>\n",
       "</table>\n",
       "</div>"
      ],
      "text/plain": [
       "               Date  Store  Sales\n",
       "1017208  2013-01-01   1115      0\n",
       "1017207  2013-01-01   1114      0\n",
       "1017206  2013-01-01   1113      0\n",
       "1017205  2013-01-01   1112      0\n",
       "1017204  2013-01-01   1111      0"
      ]
     },
     "execution_count": 5,
     "metadata": {},
     "output_type": "execute_result"
    }
   ],
   "source": [
    "# subset df to only columns 'Date', 'Sales' and 'Store'\n",
    "target_df = df [['Date', 'Store', 'Sales']]\n",
    "target_df.head()"
   ]
  },
  {
   "cell_type": "code",
   "execution_count": 6,
   "metadata": {},
   "outputs": [],
   "source": [
    "# filter into train/test \n",
    "\n",
    "# as defined in Proposal: \n",
    "# train range 07.01.2013 – 07.06.2015 (94,7% of data)\n",
    "# test range 08.06.2015-26.07.2015 (5,3% of data) \n",
    "\n",
    "# TRAIN\n",
    "# Filter out all rows with a date past 07.06.2015\n",
    "df_train = target_df[target_df['Date']<'2015-06-08']\n",
    "# Filter out all rows with a date before 07.01.2013\n",
    "df_train = df_train[df_train['Date']>='2013-07-01']\n",
    "\n",
    "# TEST\n",
    "# Filter out all rows with a date before 08.06.2015\n",
    "df_test = target_df[target_df['Date']>='2015-06-08']\n",
    "# Filter out all rows with a date past 26.07.2015\n",
    "df_test = df_test[df_test['Date']<'2015-07-27']"
   ]
  },
  {
   "cell_type": "code",
   "execution_count": 7,
   "metadata": {},
   "outputs": [],
   "source": [
    "df_train['Date'] = pd.to_datetime(df_train.Date)\n",
    "df_test['Date'] = pd.to_datetime(df_test.Date)"
   ]
  },
  {
   "cell_type": "code",
   "execution_count": 8,
   "metadata": {},
   "outputs": [
    {
     "data": {
      "text/html": [
       "<div>\n",
       "<style scoped>\n",
       "    .dataframe tbody tr th:only-of-type {\n",
       "        vertical-align: middle;\n",
       "    }\n",
       "\n",
       "    .dataframe tbody tr th {\n",
       "        vertical-align: top;\n",
       "    }\n",
       "\n",
       "    .dataframe thead th {\n",
       "        text-align: right;\n",
       "    }\n",
       "</style>\n",
       "<table border=\"1\" class=\"dataframe\">\n",
       "  <thead>\n",
       "    <tr style=\"text-align: right;\">\n",
       "      <th></th>\n",
       "      <th>Date</th>\n",
       "      <th>Store</th>\n",
       "      <th>Sales</th>\n",
       "    </tr>\n",
       "  </thead>\n",
       "  <tbody>\n",
       "    <tr>\n",
       "      <th>815394</th>\n",
       "      <td>2013-07-01</td>\n",
       "      <td>1115</td>\n",
       "      <td>7505</td>\n",
       "    </tr>\n",
       "    <tr>\n",
       "      <th>815393</th>\n",
       "      <td>2013-07-01</td>\n",
       "      <td>1114</td>\n",
       "      <td>25737</td>\n",
       "    </tr>\n",
       "    <tr>\n",
       "      <th>815392</th>\n",
       "      <td>2013-07-01</td>\n",
       "      <td>1113</td>\n",
       "      <td>8873</td>\n",
       "    </tr>\n",
       "    <tr>\n",
       "      <th>815391</th>\n",
       "      <td>2013-07-01</td>\n",
       "      <td>1112</td>\n",
       "      <td>21899</td>\n",
       "    </tr>\n",
       "    <tr>\n",
       "      <th>815390</th>\n",
       "      <td>2013-07-01</td>\n",
       "      <td>1111</td>\n",
       "      <td>8831</td>\n",
       "    </tr>\n",
       "  </tbody>\n",
       "</table>\n",
       "</div>"
      ],
      "text/plain": [
       "             Date  Store  Sales\n",
       "815394 2013-07-01   1115   7505\n",
       "815393 2013-07-01   1114  25737\n",
       "815392 2013-07-01   1113   8873\n",
       "815391 2013-07-01   1112  21899\n",
       "815390 2013-07-01   1111   8831"
      ]
     },
     "execution_count": 8,
     "metadata": {},
     "output_type": "execute_result"
    }
   ],
   "source": [
    "df_train.head()"
   ]
  },
  {
   "cell_type": "code",
   "execution_count": 9,
   "metadata": {},
   "outputs": [
    {
     "name": "stdout",
     "output_type": "stream",
     "text": [
      "<class 'pandas.core.frame.DataFrame'>\n",
      "Int64Index: 755185 entries, 815394 to 60210\n",
      "Data columns (total 3 columns):\n",
      "Date     755185 non-null datetime64[ns]\n",
      "Store    755185 non-null int64\n",
      "Sales    755185 non-null int64\n",
      "dtypes: datetime64[ns](1), int64(2)\n",
      "memory usage: 23.0 MB\n"
     ]
    }
   ],
   "source": [
    "df_train.info()"
   ]
  },
  {
   "cell_type": "code",
   "execution_count": 10,
   "metadata": {},
   "outputs": [],
   "source": [
    "# save final_data_frame for other models evaluation \"DeepAR\" notebook\n",
    "pd.DataFrame(df_test).to_csv(os.path.join('actual_sales_evaluation.csv'))"
   ]
  },
  {
   "cell_type": "markdown",
   "metadata": {},
   "source": [
    "### 5.2 Predict next 49 days through Simple Exponential Smoothing without considering features (only target cloumn)"
   ]
  },
  {
   "cell_type": "markdown",
   "metadata": {},
   "source": [
    "For the following code the data should only contain the 3 columns 'Date', 'Target' (here sales) and 'Category' (here the different stores). Features are not considered in this simple benchmark prediction!"
   ]
  },
  {
   "cell_type": "code",
   "execution_count": 11,
   "metadata": {},
   "outputs": [],
   "source": [
    "# Simple Exponential Smoothing\n",
    "import warnings\n",
    "warnings.filterwarnings(\"ignore\")\n",
    "import itertools\n",
    "import time\n",
    "import datetime\n",
    "from datetime import date, timedelta\n",
    "from dateutil.relativedelta import relativedelta\n",
    "import statsmodels.api as sm\n",
    "from statsmodels.tsa.holtwinters import SimpleExpSmoothing\n",
    "import matplotlib.pyplot as plt\n",
    "plt.style.use('fivethirtyeight')\n",
    "\n",
    "\n",
    "# change data_type of category and target to float32\n",
    "df_train['Store'] = df_train['Store'].astype('float32')\n",
    "df_train['Sales'] = df_train['Sales'].astype('float32')\n",
    "\n",
    "# subset a list of unique Categories to iterate over\n",
    "category_list = list(df_train['Store'].unique())\n",
    "\n",
    "#create the basis for final datafram\n",
    "final_data_frame = pd.DataFrame(columns=['Date','Store','Prediction_Amount','Method','Parameter'])\n",
    "\n",
    "# optional: define full index which is to be analysed for each Part ID\n",
    "# full_idx = pd.date_range(start=df_fast_final['Date'].min(), end=df_fast_final['Date'].max(), freq='W')\n",
    "\n",
    "#Simple Exponential Smoothing Forecasting\n",
    "for category in category_list:\n",
    "    df_category = df_train.loc[df_train['Store'] == category]\n",
    "    # optional: df_category = df_category.set_index('Date')\n",
    "    # optional: df_category = df_category.reindex(full_idx).fillna(0.0).rename_axis('Date').reset_index()\n",
    "    #Drop features for indexing when pivot\n",
    "    df_category = df_category.drop(['Date'], axis = 1)\n",
    "    df_category = df_category.drop(['Store'], axis = 1)\n",
    "    df= df_category.to_numpy()  \n",
    "    \n",
    "    results = SimpleExpSmoothing(df).fit(smoothing_level=0.1, optimized=False)\n",
    "    forecast = results.forecast(steps=49)\n",
    "    forecast[forecast < 0] = 0\n",
    "    date_index = pd.date_range(start ='06-08-2015', periods=49, freq ='D')\n",
    "    \n",
    "    #Frame to append to final frame\n",
    "    add_frame = pd.DataFrame()\n",
    "    add_frame['Date'] = date_index\n",
    "    add_frame['Store'] = category\n",
    "    add_frame['Prediction_Amount'] = forecast\n",
    "    add_frame['Method'] = 'SimpleExpSmoothing'\n",
    "    add_frame['Parameter'] = 'default'\n",
    "\n",
    "    final_data_frame = final_data_frame.append(add_frame)\n",
    "\n",
    "\n",
    "#final_data_frame\n",
    "final_data_frame[final_data_frame['Prediction_Amount'] < 0] = 0"
   ]
  },
  {
   "cell_type": "code",
   "execution_count": 12,
   "metadata": {},
   "outputs": [
    {
     "data": {
      "text/html": [
       "<div>\n",
       "<style scoped>\n",
       "    .dataframe tbody tr th:only-of-type {\n",
       "        vertical-align: middle;\n",
       "    }\n",
       "\n",
       "    .dataframe tbody tr th {\n",
       "        vertical-align: top;\n",
       "    }\n",
       "\n",
       "    .dataframe thead th {\n",
       "        text-align: right;\n",
       "    }\n",
       "</style>\n",
       "<table border=\"1\" class=\"dataframe\">\n",
       "  <thead>\n",
       "    <tr style=\"text-align: right;\">\n",
       "      <th></th>\n",
       "      <th>Date</th>\n",
       "      <th>Store</th>\n",
       "      <th>Prediction_Amount</th>\n",
       "      <th>Method</th>\n",
       "      <th>Parameter</th>\n",
       "    </tr>\n",
       "  </thead>\n",
       "  <tbody>\n",
       "    <tr>\n",
       "      <th>0</th>\n",
       "      <td>2015-06-08 00:00:00</td>\n",
       "      <td>1115.0</td>\n",
       "      <td>5778.679619</td>\n",
       "      <td>SimpleExpSmoothing</td>\n",
       "      <td>default</td>\n",
       "    </tr>\n",
       "    <tr>\n",
       "      <th>1</th>\n",
       "      <td>2015-06-09 00:00:00</td>\n",
       "      <td>1115.0</td>\n",
       "      <td>5778.679619</td>\n",
       "      <td>SimpleExpSmoothing</td>\n",
       "      <td>default</td>\n",
       "    </tr>\n",
       "    <tr>\n",
       "      <th>2</th>\n",
       "      <td>2015-06-10 00:00:00</td>\n",
       "      <td>1115.0</td>\n",
       "      <td>5778.679619</td>\n",
       "      <td>SimpleExpSmoothing</td>\n",
       "      <td>default</td>\n",
       "    </tr>\n",
       "    <tr>\n",
       "      <th>3</th>\n",
       "      <td>2015-06-11 00:00:00</td>\n",
       "      <td>1115.0</td>\n",
       "      <td>5778.679619</td>\n",
       "      <td>SimpleExpSmoothing</td>\n",
       "      <td>default</td>\n",
       "    </tr>\n",
       "    <tr>\n",
       "      <th>4</th>\n",
       "      <td>2015-06-12 00:00:00</td>\n",
       "      <td>1115.0</td>\n",
       "      <td>5778.679619</td>\n",
       "      <td>SimpleExpSmoothing</td>\n",
       "      <td>default</td>\n",
       "    </tr>\n",
       "  </tbody>\n",
       "</table>\n",
       "</div>"
      ],
      "text/plain": [
       "                  Date   Store  Prediction_Amount              Method  \\\n",
       "0  2015-06-08 00:00:00  1115.0        5778.679619  SimpleExpSmoothing   \n",
       "1  2015-06-09 00:00:00  1115.0        5778.679619  SimpleExpSmoothing   \n",
       "2  2015-06-10 00:00:00  1115.0        5778.679619  SimpleExpSmoothing   \n",
       "3  2015-06-11 00:00:00  1115.0        5778.679619  SimpleExpSmoothing   \n",
       "4  2015-06-12 00:00:00  1115.0        5778.679619  SimpleExpSmoothing   \n",
       "\n",
       "  Parameter  \n",
       "0   default  \n",
       "1   default  \n",
       "2   default  \n",
       "3   default  \n",
       "4   default  "
      ]
     },
     "execution_count": 12,
     "metadata": {},
     "output_type": "execute_result"
    }
   ],
   "source": [
    "final_data_frame.head()"
   ]
  },
  {
   "cell_type": "code",
   "execution_count": 13,
   "metadata": {},
   "outputs": [
    {
     "name": "stdout",
     "output_type": "stream",
     "text": [
      "<class 'pandas.core.frame.DataFrame'>\n",
      "Int64Index: 54635 entries, 0 to 48\n",
      "Data columns (total 5 columns):\n",
      "Date                 54635 non-null object\n",
      "Store                54635 non-null float64\n",
      "Prediction_Amount    54635 non-null float64\n",
      "Method               54635 non-null object\n",
      "Parameter            54635 non-null object\n",
      "dtypes: float64(2), object(3)\n",
      "memory usage: 2.5+ MB\n"
     ]
    }
   ],
   "source": [
    "final_data_frame.info()"
   ]
  },
  {
   "cell_type": "code",
   "execution_count": 14,
   "metadata": {},
   "outputs": [
    {
     "name": "stdout",
     "output_type": "stream",
     "text": [
      "                   Date  Store  Prediction_Amount              Method  \\\n",
      "0   2015-06-08 00:00:00    5.0        3791.340315  SimpleExpSmoothing   \n",
      "1   2015-06-09 00:00:00    5.0        3791.340315  SimpleExpSmoothing   \n",
      "2   2015-06-10 00:00:00    5.0        3791.340315  SimpleExpSmoothing   \n",
      "3   2015-06-11 00:00:00    5.0        3791.340315  SimpleExpSmoothing   \n",
      "4   2015-06-12 00:00:00    5.0        3791.340315  SimpleExpSmoothing   \n",
      "5   2015-06-13 00:00:00    5.0        3791.340315  SimpleExpSmoothing   \n",
      "6   2015-06-14 00:00:00    5.0        3791.340315  SimpleExpSmoothing   \n",
      "7   2015-06-15 00:00:00    5.0        3791.340315  SimpleExpSmoothing   \n",
      "8   2015-06-16 00:00:00    5.0        3791.340315  SimpleExpSmoothing   \n",
      "9   2015-06-17 00:00:00    5.0        3791.340315  SimpleExpSmoothing   \n",
      "10  2015-06-18 00:00:00    5.0        3791.340315  SimpleExpSmoothing   \n",
      "11  2015-06-19 00:00:00    5.0        3791.340315  SimpleExpSmoothing   \n",
      "12  2015-06-20 00:00:00    5.0        3791.340315  SimpleExpSmoothing   \n",
      "13  2015-06-21 00:00:00    5.0        3791.340315  SimpleExpSmoothing   \n",
      "14  2015-06-22 00:00:00    5.0        3791.340315  SimpleExpSmoothing   \n",
      "15  2015-06-23 00:00:00    5.0        3791.340315  SimpleExpSmoothing   \n",
      "16  2015-06-24 00:00:00    5.0        3791.340315  SimpleExpSmoothing   \n",
      "17  2015-06-25 00:00:00    5.0        3791.340315  SimpleExpSmoothing   \n",
      "18  2015-06-26 00:00:00    5.0        3791.340315  SimpleExpSmoothing   \n",
      "19  2015-06-27 00:00:00    5.0        3791.340315  SimpleExpSmoothing   \n",
      "20  2015-06-28 00:00:00    5.0        3791.340315  SimpleExpSmoothing   \n",
      "21  2015-06-29 00:00:00    5.0        3791.340315  SimpleExpSmoothing   \n",
      "22  2015-06-30 00:00:00    5.0        3791.340315  SimpleExpSmoothing   \n",
      "23  2015-07-01 00:00:00    5.0        3791.340315  SimpleExpSmoothing   \n",
      "24  2015-07-02 00:00:00    5.0        3791.340315  SimpleExpSmoothing   \n",
      "25  2015-07-03 00:00:00    5.0        3791.340315  SimpleExpSmoothing   \n",
      "26  2015-07-04 00:00:00    5.0        3791.340315  SimpleExpSmoothing   \n",
      "27  2015-07-05 00:00:00    5.0        3791.340315  SimpleExpSmoothing   \n",
      "28  2015-07-06 00:00:00    5.0        3791.340315  SimpleExpSmoothing   \n",
      "29  2015-07-07 00:00:00    5.0        3791.340315  SimpleExpSmoothing   \n",
      "30  2015-07-08 00:00:00    5.0        3791.340315  SimpleExpSmoothing   \n",
      "31  2015-07-09 00:00:00    5.0        3791.340315  SimpleExpSmoothing   \n",
      "32  2015-07-10 00:00:00    5.0        3791.340315  SimpleExpSmoothing   \n",
      "33  2015-07-11 00:00:00    5.0        3791.340315  SimpleExpSmoothing   \n",
      "34  2015-07-12 00:00:00    5.0        3791.340315  SimpleExpSmoothing   \n",
      "35  2015-07-13 00:00:00    5.0        3791.340315  SimpleExpSmoothing   \n",
      "36  2015-07-14 00:00:00    5.0        3791.340315  SimpleExpSmoothing   \n",
      "37  2015-07-15 00:00:00    5.0        3791.340315  SimpleExpSmoothing   \n",
      "38  2015-07-16 00:00:00    5.0        3791.340315  SimpleExpSmoothing   \n",
      "39  2015-07-17 00:00:00    5.0        3791.340315  SimpleExpSmoothing   \n",
      "40  2015-07-18 00:00:00    5.0        3791.340315  SimpleExpSmoothing   \n",
      "41  2015-07-19 00:00:00    5.0        3791.340315  SimpleExpSmoothing   \n",
      "42  2015-07-20 00:00:00    5.0        3791.340315  SimpleExpSmoothing   \n",
      "43  2015-07-21 00:00:00    5.0        3791.340315  SimpleExpSmoothing   \n",
      "44  2015-07-22 00:00:00    5.0        3791.340315  SimpleExpSmoothing   \n",
      "45  2015-07-23 00:00:00    5.0        3791.340315  SimpleExpSmoothing   \n",
      "46  2015-07-24 00:00:00    5.0        3791.340315  SimpleExpSmoothing   \n",
      "47  2015-07-25 00:00:00    5.0        3791.340315  SimpleExpSmoothing   \n",
      "48  2015-07-26 00:00:00    5.0        3791.340315  SimpleExpSmoothing   \n",
      "\n",
      "   Parameter  \n",
      "0    default  \n",
      "1    default  \n",
      "2    default  \n",
      "3    default  \n",
      "4    default  \n",
      "5    default  \n",
      "6    default  \n",
      "7    default  \n",
      "8    default  \n",
      "9    default  \n",
      "10   default  \n",
      "11   default  \n",
      "12   default  \n",
      "13   default  \n",
      "14   default  \n",
      "15   default  \n",
      "16   default  \n",
      "17   default  \n",
      "18   default  \n",
      "19   default  \n",
      "20   default  \n",
      "21   default  \n",
      "22   default  \n",
      "23   default  \n",
      "24   default  \n",
      "25   default  \n",
      "26   default  \n",
      "27   default  \n",
      "28   default  \n",
      "29   default  \n",
      "30   default  \n",
      "31   default  \n",
      "32   default  \n",
      "33   default  \n",
      "34   default  \n",
      "35   default  \n",
      "36   default  \n",
      "37   default  \n",
      "38   default  \n",
      "39   default  \n",
      "40   default  \n",
      "41   default  \n",
      "42   default  \n",
      "43   default  \n",
      "44   default  \n",
      "45   default  \n",
      "46   default  \n",
      "47   default  \n",
      "48   default  \n"
     ]
    }
   ],
   "source": [
    "print(final_data_frame[final_data_frame['Store']==5])"
   ]
  },
  {
   "cell_type": "markdown",
   "metadata": {},
   "source": [
    "# 6.A) Evaluation"
   ]
  },
  {
   "cell_type": "markdown",
   "metadata": {},
   "source": [
    "### 6.1 Combing Prediction- and Test-Data to an evaluation df"
   ]
  },
  {
   "cell_type": "code",
   "execution_count": 15,
   "metadata": {},
   "outputs": [
    {
     "data": {
      "text/html": [
       "<div>\n",
       "<style scoped>\n",
       "    .dataframe tbody tr th:only-of-type {\n",
       "        vertical-align: middle;\n",
       "    }\n",
       "\n",
       "    .dataframe tbody tr th {\n",
       "        vertical-align: top;\n",
       "    }\n",
       "\n",
       "    .dataframe thead th {\n",
       "        text-align: right;\n",
       "    }\n",
       "</style>\n",
       "<table border=\"1\" class=\"dataframe\">\n",
       "  <thead>\n",
       "    <tr style=\"text-align: right;\">\n",
       "      <th></th>\n",
       "      <th>Date</th>\n",
       "      <th>Store</th>\n",
       "      <th>Prediction_Amount</th>\n",
       "      <th>Method</th>\n",
       "      <th>Parameter</th>\n",
       "    </tr>\n",
       "  </thead>\n",
       "  <tbody>\n",
       "    <tr>\n",
       "      <th>0</th>\n",
       "      <td>2015-06-08</td>\n",
       "      <td>1115</td>\n",
       "      <td>5778.679619</td>\n",
       "      <td>SimpleExpSmoothing</td>\n",
       "      <td>default</td>\n",
       "    </tr>\n",
       "    <tr>\n",
       "      <th>1</th>\n",
       "      <td>2015-06-09</td>\n",
       "      <td>1115</td>\n",
       "      <td>5778.679619</td>\n",
       "      <td>SimpleExpSmoothing</td>\n",
       "      <td>default</td>\n",
       "    </tr>\n",
       "    <tr>\n",
       "      <th>2</th>\n",
       "      <td>2015-06-10</td>\n",
       "      <td>1115</td>\n",
       "      <td>5778.679619</td>\n",
       "      <td>SimpleExpSmoothing</td>\n",
       "      <td>default</td>\n",
       "    </tr>\n",
       "    <tr>\n",
       "      <th>3</th>\n",
       "      <td>2015-06-11</td>\n",
       "      <td>1115</td>\n",
       "      <td>5778.679619</td>\n",
       "      <td>SimpleExpSmoothing</td>\n",
       "      <td>default</td>\n",
       "    </tr>\n",
       "    <tr>\n",
       "      <th>4</th>\n",
       "      <td>2015-06-12</td>\n",
       "      <td>1115</td>\n",
       "      <td>5778.679619</td>\n",
       "      <td>SimpleExpSmoothing</td>\n",
       "      <td>default</td>\n",
       "    </tr>\n",
       "  </tbody>\n",
       "</table>\n",
       "</div>"
      ],
      "text/plain": [
       "        Date  Store  Prediction_Amount              Method Parameter\n",
       "0 2015-06-08   1115        5778.679619  SimpleExpSmoothing   default\n",
       "1 2015-06-09   1115        5778.679619  SimpleExpSmoothing   default\n",
       "2 2015-06-10   1115        5778.679619  SimpleExpSmoothing   default\n",
       "3 2015-06-11   1115        5778.679619  SimpleExpSmoothing   default\n",
       "4 2015-06-12   1115        5778.679619  SimpleExpSmoothing   default"
      ]
     },
     "execution_count": 15,
     "metadata": {},
     "output_type": "execute_result"
    }
   ],
   "source": [
    "# change datatypes\n",
    "final_data_frame['Store'] = final_data_frame['Store'].astype('int')\n",
    "final_data_frame['Date'] = pd.to_datetime(final_data_frame['Date'], format='%Y-%m-%d')\n",
    "final_data_frame.head()"
   ]
  },
  {
   "cell_type": "code",
   "execution_count": 16,
   "metadata": {},
   "outputs": [],
   "source": [
    "# save final_data_frame for other models evaluation \"DeepAR\" notebook\n",
    "pd.DataFrame(final_data_frame).to_csv(os.path.join('prepared_evaluation.csv'))"
   ]
  },
  {
   "cell_type": "code",
   "execution_count": 17,
   "metadata": {},
   "outputs": [
    {
     "data": {
      "text/html": [
       "<div>\n",
       "<style scoped>\n",
       "    .dataframe tbody tr th:only-of-type {\n",
       "        vertical-align: middle;\n",
       "    }\n",
       "\n",
       "    .dataframe tbody tr th {\n",
       "        vertical-align: top;\n",
       "    }\n",
       "\n",
       "    .dataframe thead th {\n",
       "        text-align: right;\n",
       "    }\n",
       "</style>\n",
       "<table border=\"1\" class=\"dataframe\">\n",
       "  <thead>\n",
       "    <tr style=\"text-align: right;\">\n",
       "      <th></th>\n",
       "      <th>Date</th>\n",
       "      <th>Store</th>\n",
       "      <th>Sales</th>\n",
       "      <th>Prediction_Amount</th>\n",
       "      <th>Method</th>\n",
       "      <th>Parameter</th>\n",
       "    </tr>\n",
       "  </thead>\n",
       "  <tbody>\n",
       "    <tr>\n",
       "      <th>0</th>\n",
       "      <td>2015-06-08</td>\n",
       "      <td>1115</td>\n",
       "      <td>5920</td>\n",
       "      <td>5778.679619</td>\n",
       "      <td>SimpleExpSmoothing</td>\n",
       "      <td>default</td>\n",
       "    </tr>\n",
       "    <tr>\n",
       "      <th>1</th>\n",
       "      <td>2015-06-08</td>\n",
       "      <td>1114</td>\n",
       "      <td>20368</td>\n",
       "      <td>18507.428079</td>\n",
       "      <td>SimpleExpSmoothing</td>\n",
       "      <td>default</td>\n",
       "    </tr>\n",
       "    <tr>\n",
       "      <th>2</th>\n",
       "      <td>2015-06-08</td>\n",
       "      <td>1113</td>\n",
       "      <td>5939</td>\n",
       "      <td>5263.883418</td>\n",
       "      <td>SimpleExpSmoothing</td>\n",
       "      <td>default</td>\n",
       "    </tr>\n",
       "    <tr>\n",
       "      <th>3</th>\n",
       "      <td>2015-06-08</td>\n",
       "      <td>1112</td>\n",
       "      <td>7878</td>\n",
       "      <td>7500.092689</td>\n",
       "      <td>SimpleExpSmoothing</td>\n",
       "      <td>default</td>\n",
       "    </tr>\n",
       "    <tr>\n",
       "      <th>4</th>\n",
       "      <td>2015-06-08</td>\n",
       "      <td>1111</td>\n",
       "      <td>4567</td>\n",
       "      <td>3580.998695</td>\n",
       "      <td>SimpleExpSmoothing</td>\n",
       "      <td>default</td>\n",
       "    </tr>\n",
       "  </tbody>\n",
       "</table>\n",
       "</div>"
      ],
      "text/plain": [
       "        Date  Store  Sales  Prediction_Amount              Method Parameter\n",
       "0 2015-06-08   1115   5920        5778.679619  SimpleExpSmoothing   default\n",
       "1 2015-06-08   1114  20368       18507.428079  SimpleExpSmoothing   default\n",
       "2 2015-06-08   1113   5939        5263.883418  SimpleExpSmoothing   default\n",
       "3 2015-06-08   1112   7878        7500.092689  SimpleExpSmoothing   default\n",
       "4 2015-06-08   1111   4567        3580.998695  SimpleExpSmoothing   default"
      ]
     },
     "execution_count": 17,
     "metadata": {},
     "output_type": "execute_result"
    }
   ],
   "source": [
    "# append final_data_frame['Prediction_Amount'] to df_test based on Date and Store column \n",
    "evaluation_df = pd.merge(df_test, final_data_frame,  how='left', left_on=['Date','Store'], right_on = ['Date','Store'])\n",
    "evaluation_df.head()"
   ]
  },
  {
   "cell_type": "markdown",
   "metadata": {},
   "source": [
    "### 6.2 Visual Evaluation"
   ]
  },
  {
   "cell_type": "code",
   "execution_count": 18,
   "metadata": {},
   "outputs": [
    {
     "data": {
      "image/png": "[encoded data removed]",
      "text/plain": [
       "<Figure size 792x288 with 1 Axes>"
      ]
     },
     "metadata": {},
     "output_type": "display_data"
    }
   ],
   "source": [
    "# plot result for one store as example visualization\n",
    "test_vis_5 = evaluation_df[evaluation_df['Store']==5]\n",
    "\n",
    "import matplotlib.pyplot as plt\n",
    "import seaborn as sns\n",
    "sns.set(rc={'figure.figsize':(11, 4)})\n",
    "\n",
    "test_vis_5 = test_vis_5.set_index('Date')\n",
    "test_vis_5['Sales'].plot(linewidth=0.5);\n",
    "test_vis_5['Prediction_Amount'].plot(linewidth=0.5);"
   ]
  },
  {
   "cell_type": "code",
   "execution_count": 19,
   "metadata": {},
   "outputs": [
    {
     "data": {
      "image/png": "[encoded data removed]",
      "text/plain": [
       "<Figure size 792x288 with 1 Axes>"
      ]
     },
     "metadata": {},
     "output_type": "display_data"
    }
   ],
   "source": [
    "# plot result for one store as example visualization\n",
    "test_vis_50 = evaluation_df[evaluation_df['Store']==50]\n",
    "\n",
    "import matplotlib.pyplot as plt\n",
    "import seaborn as sns\n",
    "sns.set(rc={'figure.figsize':(11, 4)})\n",
    "\n",
    "test_vis_50 = test_vis_50.set_index('Date')\n",
    "test_vis_50['Sales'].plot(linewidth=0.5);\n",
    "test_vis_50['Prediction_Amount'].plot(linewidth=0.5);"
   ]
  },
  {
   "cell_type": "markdown",
   "metadata": {},
   "source": [
    "### Visual Evaluation Conclusion"
   ]
  },
  {
   "cell_type": "markdown",
   "metadata": {},
   "source": [
    "This simple prediction seems to capture the average sales quite good, but doesn't account for the demand fluctuation during the weeks. The actual demand is much higher every second week and usually has a spike at the beginning of the week. The simple exponential smoothing only predicts the same amount for each week and doesn't take trend, seasonality or other patterns into concideration.  "
   ]
  },
  {
   "cell_type": "markdown",
   "metadata": {},
   "source": [
    "### 6.3 Examination of results resampled to 7 weeks (instead of 49days)"
   ]
  },
  {
   "cell_type": "code",
   "execution_count": 20,
   "metadata": {},
   "outputs": [
    {
     "data": {
      "text/html": [
       "<div>\n",
       "<style scoped>\n",
       "    .dataframe tbody tr th:only-of-type {\n",
       "        vertical-align: middle;\n",
       "    }\n",
       "\n",
       "    .dataframe tbody tr th {\n",
       "        vertical-align: top;\n",
       "    }\n",
       "\n",
       "    .dataframe thead th {\n",
       "        text-align: right;\n",
       "    }\n",
       "</style>\n",
       "<table border=\"1\" class=\"dataframe\">\n",
       "  <thead>\n",
       "    <tr style=\"text-align: right;\">\n",
       "      <th></th>\n",
       "      <th>Store</th>\n",
       "      <th>Sales</th>\n",
       "      <th>Prediction_Amount</th>\n",
       "    </tr>\n",
       "  </thead>\n",
       "  <tbody>\n",
       "    <tr>\n",
       "      <th>0</th>\n",
       "      <td>1</td>\n",
       "      <td>178499</td>\n",
       "      <td>167576.464686</td>\n",
       "    </tr>\n",
       "    <tr>\n",
       "      <th>1</th>\n",
       "      <td>2</td>\n",
       "      <td>202435</td>\n",
       "      <td>192373.872615</td>\n",
       "    </tr>\n",
       "    <tr>\n",
       "      <th>2</th>\n",
       "      <td>3</td>\n",
       "      <td>285635</td>\n",
       "      <td>264367.026916</td>\n",
       "    </tr>\n",
       "    <tr>\n",
       "      <th>3</th>\n",
       "      <td>4</td>\n",
       "      <td>404191</td>\n",
       "      <td>389910.210101</td>\n",
       "    </tr>\n",
       "    <tr>\n",
       "      <th>4</th>\n",
       "      <td>5</td>\n",
       "      <td>185834</td>\n",
       "      <td>185775.675444</td>\n",
       "    </tr>\n",
       "  </tbody>\n",
       "</table>\n",
       "</div>"
      ],
      "text/plain": [
       "   Store   Sales  Prediction_Amount\n",
       "0      1  178499      167576.464686\n",
       "1      2  202435      192373.872615\n",
       "2      3  285635      264367.026916\n",
       "3      4  404191      389910.210101\n",
       "4      5  185834      185775.675444"
      ]
     },
     "execution_count": 20,
     "metadata": {},
     "output_type": "execute_result"
    }
   ],
   "source": [
    "# compare the sum of sales over the 49 days \n",
    "# sum demand per store (= demand for 7 weeks) in order to compare easier \n",
    "# and to check how the prediction quality would change if the data would be aggregated to weeks  \n",
    "\n",
    "# group prediction per store\n",
    "evaluation_resampled_pred = evaluation_df.groupby('Store')['Prediction_Amount'].sum().reset_index()\n",
    "evaluation_resampled_pred.columns = ['Store','Prediction_Amount']\n",
    "\n",
    "# group actual demand per store\n",
    "evaluation_resampled_actu = evaluation_df.groupby('Store')['Sales'].sum().reset_index()\n",
    "evaluation_resampled_actu.columns = ['Store','Sales']\n",
    "\n",
    "# combine the 2 df\n",
    "resampled_df = evaluation_resampled_actu.copy()\n",
    "resampled_df['Prediction_Amount'] = resampled_df.Store.map(evaluation_resampled_pred.set_index('Store')['Prediction_Amount'].to_dict())\n",
    "resampled_df.head()"
   ]
  },
  {
   "cell_type": "markdown",
   "metadata": {},
   "source": [
    "### Conclusion resampled data"
   ]
  },
  {
   "cell_type": "markdown",
   "metadata": {},
   "source": [
    "It seems that the sum of demand over the 7 weeks prediction period is very close to the sum of actual demand over 7 weeks. Considering this use case I guess it is more comon for a manager to order on a two-weekly or weekly basis than on a daily basis. So this result might actually be kind of good for this use case. Let's have a look at evaluation scores. "
   ]
  },
  {
   "cell_type": "markdown",
   "metadata": {},
   "source": [
    "### 6.4 Scores - calculating the prediction quality scores defined in the Project Proposal"
   ]
  },
  {
   "cell_type": "markdown",
   "metadata": {},
   "source": [
    "#### for the regualr data (per day)"
   ]
  },
  {
   "cell_type": "code",
   "execution_count": 21,
   "metadata": {},
   "outputs": [
    {
     "name": "stdout",
     "output_type": "stream",
     "text": [
      "The absolute mean error (RMSE) is about 2996.0.\n"
     ]
    }
   ],
   "source": [
    "y_true = evaluation_df['Sales'].to_numpy()\n",
    "y_pred = evaluation_df['Prediction_Amount'].to_numpy()\n",
    "\n",
    "import numpy as np \n",
    "rmse = (np.sqrt(np.mean(np.square((y_true - y_pred)))))\n",
    "print (\"The absolute mean error (RMSE) is about {}.\".format(round(rmse)))"
   ]
  },
  {
   "cell_type": "code",
   "execution_count": 22,
   "metadata": {},
   "outputs": [
    {
     "name": "stdout",
     "output_type": "stream",
     "text": [
      "The relative (percentage) mean error (RMSPE) is about 28.0%.\n"
     ]
    }
   ],
   "source": [
    "df_no_zero = evaluation_df[evaluation_df['Sales'] > 0]\n",
    "y_true = df_no_zero['Sales'].to_numpy()\n",
    "y_pred = df_no_zero['Prediction_Amount'].to_numpy()\n",
    "rmspe = (np.sqrt(np.mean(np.square((y_true - y_pred) / y_true)))) * 100\n",
    "print (\"The relative (percentage) mean error (RMSPE) is about {}%.\".format(round(rmspe)))"
   ]
  },
  {
   "cell_type": "markdown",
   "metadata": {},
   "source": [
    "#### for the resampled data"
   ]
  },
  {
   "cell_type": "code",
   "execution_count": 23,
   "metadata": {},
   "outputs": [
    {
     "name": "stdout",
     "output_type": "stream",
     "text": [
      "The absolute mean error (RMSE) is about 19921.0.\n",
      "The relative (percentage) mean error (RMSPE) is about 7.0%.\n"
     ]
    }
   ],
   "source": [
    "y_true = resampled_df['Sales'].to_numpy()\n",
    "y_pred = resampled_df['Prediction_Amount'].to_numpy()\n",
    " \n",
    "#add epsilon as a very small constant to the denominator so that even in the case that y_true equals 0, the denominator as a whole won’t\n",
    "EPSILON =  1e-10 \n",
    "rmse = (np.sqrt(np.mean(np.square((y_true - y_pred)))))\n",
    "rmspe = (np.sqrt(np.mean(np.square((y_true - y_pred) / (y_true + EPSILON))))) * 100\n",
    "print (\"The absolute mean error (RMSE) is about {}.\".format(round(rmse)))\n",
    "print (\"The relative (percentage) mean error (RMSPE) is about {}%.\".format(round(rmspe)))\n"
   ]
  },
  {
   "cell_type": "code",
   "execution_count": null,
   "metadata": {},
   "outputs": [],
   "source": []
  },
  {
   "cell_type": "code",
   "execution_count": null,
   "metadata": {},
   "outputs": [],
   "source": []
  }
 ],
 "metadata": {
  "kernelspec": {
   "display_name": "conda_mxnet_p36",
   "language": "python",
   "name": "conda_mxnet_p36"
  },
  "language_info": {
   "codemirror_mode": {
    "name": "ipython",
    "version": 3
   },
   "file_extension": ".py",
   "mimetype": "text/x-python",
   "name": "python",
   "nbconvert_exporter": "python",
   "pygments_lexer": "ipython3",
   "version": "3.6.5"
  }
 },
 "nbformat": 4,
 "nbformat_minor": 4
}
